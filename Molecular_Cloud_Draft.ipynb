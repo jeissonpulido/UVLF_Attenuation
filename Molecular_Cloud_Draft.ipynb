{
 "cells": [
  {
   "cell_type": "code",
   "execution_count": 8,
   "id": "282ff0fe-f6e0-4c32-8baa-9ec1f543a920",
   "metadata": {},
   "outputs": [],
   "source": [
    "import numpy as np\n",
    "import matplotlib.pyplot as plt\n",
    "import astropy.units as u\n",
    "import h5py\n",
    "import pandas as pd\n",
    "#Pre-run code\n",
    "import os\n",
    "import sys\n",
    "import gc\n",
    "os.listdir('/mnt/c/Users/jdpul/OneDrive/Desktop/Galacticus-dust-modelling-main/dust_model')\n",
    "sys.path.append('/mnt/c/Users/jdpul/OneDrive/Desktop/Galacticus-dust-modelling-main')\n",
    "sys.path.append('/mnt/c/Users/jdpul/OneDrive/Desktop/Galacticus-dust-modelling-main/dust_model')\n",
    "import birth_clouds1"
   ]
  },
  {
   "cell_type": "code",
   "execution_count": 9,
   "id": "50405837-639b-45fb-9944-3092410aa64d",
   "metadata": {},
   "outputs": [],
   "source": [
    "#Define functions that give Luminosity, Magnitude, and MergerTreeWeights. Plug data\n",
    "#This def extracts the spheroid (name1) and disk (name2) Stellar luminosities from the Datasets above and adds them.\n",
    "def L(name1, name2):\n",
    "  return [x + y for x, y in zip(np.array(name1['Outputs/Output1/nodeData/spheroidLuminositiesStellar:JWST_NIRCAM_f277w:observed:z8.0000']), np.array(name2['Outputs/Output1/nodeData/diskLuminositiesStellar:JWST_NIRCAM_f277w:observed:z8.0000']))]\n",
    "#Name 1 is the Luminosity produced by L(name1, name2), while Name 2 is the general hdf5 file uploaded (i.e. V100)\n",
    "\n",
    "def Lv2(name1, name2, name3, name4):\n",
    "  return [x + y + z + w for x, y, z, w in zip(np.array(name1['Outputs/Output1/nodeData/spheroidLuminositiesStellar:JWST_NIRCAM_f277w:observed:z8.0000']), np.array(name2['Outputs/Output1/nodeData/diskLuminositiesStellar:JWST_NIRCAM_f277w:observed:z8.0000']), np.array(name3['Outputs/Output1/nodeData/diskLuminositiesStellar:JWST_NIRCAM_f277w:observed:z8.0000:young']), np.array(name4['Outputs/Output1/nodeData/spheroidLuminositiesStellar:JWST_NIRCAM_f277w:observed:z8.0000:young']))]\n",
    "\n",
    "Magnitude=np.arange(-24,-15,1)\n",
    "def W(name1, name2):\n",
    "   Table=pd.DataFrame({'Magnitude':name1, 'MergerTreeWeights':np.array(name2['Outputs/Output1/mergerTreeWeight'])}) \n",
    "   Table['binzz']=pd.cut(Table['Magnitude'], Magnitude)\n",
    "   resultz=Table.groupby('binzz').agg(\n",
    "       Sum=('MergerTreeWeights', 'sum')\n",
    "   ).reset_index()\n",
    "   return resultz\n",
    "\n",
    "def M(name):\n",
    "  for i in range(len(name)):\n",
    "    if name[i]==0:    #Some Luminosities are 0 and log10(0)=Undefined when calculating Magnitudes\n",
    "       name[i]=0.99999\n",
    "  return -2.5*np.log10(name) \n",
    "\n",
    "wavelengths=np.geomspace(2875, 4375, num=1)\n",
    "\n",
    "def fix(name):\n",
    "    for i in range(len(name)):\n",
    "        if np.isnan(name[i]) or name[i] == np.inf or name[i] < 1e-8:\n",
    "            name[i] = 1e-8\n",
    "    return name\n",
    "\n",
    "def Rfix(name):\n",
    "    for i in range (len(name)):\n",
    "        if name[i] == 0:\n",
    "           name[i]=1e-13\n",
    "    return name\n",
    "    \n",
    "Magnitudes=np.arange(-24,-15,2)\n",
    "Magnitude1=[-23.5, -22.5, -21.5, -20.5, -19.5, -18.5, -17.5, -16.5]"
   ]
  },
  {
   "cell_type": "code",
   "execution_count": 10,
   "id": "1ec88669-736b-4b24-b9bc-387ce9c58e6d",
   "metadata": {},
   "outputs": [],
   "source": [
    "A05v2= h5py.File('LuminosityFuna0p5y.hdf5', 'r')\n",
    "A05v3= h5py.File('LuminosityFuna0p5mc.hdf5', 'r')\n",
    "A05v4= h5py.File('LuminosityFuna0p5mc1.hdf5', 'r')"
   ]
  },
  {
   "cell_type": "code",
   "execution_count": 11,
   "id": "18e2d733-5c80-4f46-bcfe-38cb3634b177",
   "metadata": {},
   "outputs": [],
   "source": [
    "A05v2['Outputs/Output1/nodeData'].keys()\n",
    "Recent_d=np.array(A05v2['Outputs/Output1/nodeData/diskLuminositiesStellar:JWST_NIRCAM_f277w:observed:z8.0000:recent'])\n",
    "Recent_s=np.array(A05v2['/Outputs/Output1/nodeData/spheroidLuminositiesStellar:JWST_NIRCAM_f277w:observed:z8.0000:recent'])\n",
    "birth_s=np.array(A05v2['Outputs/Output1/nodeData/spheroidLuminositiesStellar:JWST_NIRCAM_f277w:observed:z8.0000:young'])\n",
    "birth_d=np.array(A05v2['Outputs/Output1/nodeData/diskLuminositiesStellar:JWST_NIRCAM_f277w:observed:z8.0000:young'])\n",
    "Default_s=np.array(A05v2['Outputs/Output1/nodeData/spheroidLuminositiesStellar:JWST_NIRCAM_f277w:observed:z8.0000'])\n",
    "Default_d=np.array(A05v2['Outputs/Output1/nodeData/diskLuminositiesStellar:JWST_NIRCAM_f277w:observed:z8.0000'])\n",
    "\n",
    "Recent_d1=np.array(A05v3['Outputs/Output1/nodeData/diskLuminositiesStellar:JWST_NIRCAM_f277w:observed:z8.0000:recent'])\n",
    "Recent_s1=np.array(A05v3['/Outputs/Output1/nodeData/spheroidLuminositiesStellar:JWST_NIRCAM_f277w:observed:z8.0000:recent'])\n",
    "birth_s1=np.array(A05v3['Outputs/Output1/nodeData/spheroidLuminositiesStellar:JWST_NIRCAM_f277w:observed:z8.0000:birth'])\n",
    "birth_d1=np.array(A05v3['Outputs/Output1/nodeData/diskLuminositiesStellar:JWST_NIRCAM_f277w:observed:z8.0000:birth'])\n",
    "Default_s1=np.array(A05v3['Outputs/Output1/nodeData/spheroidLuminositiesStellar:JWST_NIRCAM_f277w:observed:z8.0000'])\n",
    "Default_d1=np.array(A05v3['Outputs/Output1/nodeData/diskLuminositiesStellar:JWST_NIRCAM_f277w:observed:z8.0000'])\n",
    "\n",
    "Recent_d2=np.array(A05v4['Outputs/Output1/nodeData/diskLuminositiesStellar:JWST_NIRCAM_f277w:observed:z8.0000:recent'])\n",
    "Recent_s2=np.array(A05v4['/Outputs/Output1/nodeData/spheroidLuminositiesStellar:JWST_NIRCAM_f277w:observed:z8.0000:recent'])\n",
    "birth_s2=np.array(A05v4['Outputs/Output1/nodeData/spheroidLuminositiesStellar:JWST_NIRCAM_f277w:observed:z8.0000:birth'])\n",
    "birth_d2=np.array(A05v4['Outputs/Output1/nodeData/diskLuminositiesStellar:JWST_NIRCAM_f277w:observed:z8.0000:birth'])\n",
    "Default_s2=np.array(A05v4['Outputs/Output1/nodeData/spheroidLuminositiesStellar:JWST_NIRCAM_f277w:observed:z8.0000'])\n",
    "Default_d2=np.array(A05v4['Outputs/Output1/nodeData/diskLuminositiesStellar:JWST_NIRCAM_f277w:observed:z8.0000'])"
   ]
  },
  {
   "cell_type": "code",
   "execution_count": 12,
   "id": "8b5cbcc5-62fc-4354-bbb3-2cf0d2059f16",
   "metadata": {},
   "outputs": [
    {
     "name": "stderr",
     "output_type": "stream",
     "text": [
      "/tmp/ipykernel_41933/1199322640.py:1: RuntimeWarning: invalid value encountered in divide\n",
      "  Z=(np.array(A05v2['Outputs/Output1/nodeData/diskAbundancesGasMetals'])/np.array(A05v2['Outputs/Output1/nodeData/diskMassGas']))\n",
      "/tmp/ipykernel_41933/1199322640.py:2: RuntimeWarning: invalid value encountered in divide\n",
      "  Z1=(np.array(A05v3['Outputs/Output1/nodeData/diskAbundancesGasMetals'])/np.array(A05v3['Outputs/Output1/nodeData/diskMassGas']))\n",
      "/tmp/ipykernel_41933/1199322640.py:3: RuntimeWarning: invalid value encountered in divide\n",
      "  Z2=(np.array(A05v4['Outputs/Output1/nodeData/diskAbundancesGasMetals'])/np.array(A05v4['Outputs/Output1/nodeData/diskMassGas']))\n"
     ]
    }
   ],
   "source": [
    "Z=(np.array(A05v2['Outputs/Output1/nodeData/diskAbundancesGasMetals'])/np.array(A05v2['Outputs/Output1/nodeData/diskMassGas']))\n",
    "Z1=(np.array(A05v3['Outputs/Output1/nodeData/diskAbundancesGasMetals'])/np.array(A05v3['Outputs/Output1/nodeData/diskMassGas']))\n",
    "Z2=(np.array(A05v4['Outputs/Output1/nodeData/diskAbundancesGasMetals'])/np.array(A05v4['Outputs/Output1/nodeData/diskMassGas']))\n",
    "metallicities = fix(Z)\n",
    "metallicities1 = fix(Z1)\n",
    "metallicities2 = fix(Z2)"
   ]
  },
  {
   "cell_type": "code",
   "execution_count": 15,
   "id": "c077b957-c563-413b-a304-0be360263ccc",
   "metadata": {},
   "outputs": [],
   "source": [
    "def disk_clouds_attenuation(metallicities, birth_list, default_list, wavelength):\n",
    "    Ad_cloud = np.empty_like(metallicities, dtype=float)\n",
    "\n",
    "    for i in range(len(metallicities)):\n",
    "        clouds = birth_clouds1.birth_clouds(\n",
    "            Zcloud=metallicities[i],\n",
    "            Birth=birth_list[i],\n",
    "            Default=default_list[i],\n",
    "        )\n",
    "        Ad_cloud[i] = clouds.attenuation(wavelength)\n",
    "        Ad_cloud = np.nan_to_num(Ad_cloud, nan=1.0)\n",
    "\n",
    "    return Ad_cloud\n",
    "\n",
    "def spheroid_clouds_attenuation(metallicities, birth_list, default_list, wavelength):\n",
    "    As_cloud = np.empty_like(metallicities, dtype=float)\n",
    "\n",
    "    for i in range(len(metallicities)):\n",
    "        clouds = birth_clouds1.birth_clouds(\n",
    "            Zcloud=metallicities[i],\n",
    "            Birth=birth_list[i],\n",
    "            Default=default_list[i],\n",
    "        )\n",
    "        As_cloud[i] = clouds.attenuation(wavelength)\n",
    "        As_cloud = np.nan_to_num(As_cloud, nan=1.0)\n",
    "\n",
    "    return As_cloud"
   ]
  },
  {
   "cell_type": "code",
   "execution_count": 16,
   "id": "cd906d32-981d-49d9-a4b6-6ce2d36818f0",
   "metadata": {},
   "outputs": [
    {
     "name": "stderr",
     "output_type": "stream",
     "text": [
      "/tmp/ipykernel_41933/4030170569.py:10: DeprecationWarning: Conversion of an array with ndim > 0 to a scalar is deprecated, and will error in future. Ensure you extract a single element from your array before performing this operation. (Deprecated NumPy 1.25.)\n",
      "  Ad_cloud[i] = clouds.attenuation(wavelength)\n",
      "/mnt/c/Users/jdpul/OneDrive/Desktop/Galacticus-dust-modelling-main/dust_model/birth_clouds1.py:60: RuntimeWarning: invalid value encountered in scalar divide\n",
      "  return self.Birth/self.Default\n",
      "/tmp/ipykernel_41933/4030170569.py:24: DeprecationWarning: Conversion of an array with ndim > 0 to a scalar is deprecated, and will error in future. Ensure you extract a single element from your array before performing this operation. (Deprecated NumPy 1.25.)\n",
      "  As_cloud[i] = clouds.attenuation(wavelength)\n"
     ]
    }
   ],
   "source": [
    "Ad=disk_clouds_attenuation(metallicities, birth_d, Default_d, 3000)\n",
    "As=spheroid_clouds_attenuation(metallicities, birth_s, Default_s, 3000)"
   ]
  },
  {
   "cell_type": "code",
   "execution_count": 17,
   "id": "456ec76d-270d-4f4a-a19d-165b38a9f60a",
   "metadata": {},
   "outputs": [],
   "source": [
    "L_atts=Default_s-Recent_s+Recent_s*As"
   ]
  },
  {
   "cell_type": "code",
   "execution_count": 18,
   "id": "a7f99d56-dfac-4740-998f-a2ce53294092",
   "metadata": {},
   "outputs": [],
   "source": [
    "L_attd=Default_d-Recent_d+Recent_d*Ad"
   ]
  },
  {
   "cell_type": "code",
   "execution_count": 19,
   "id": "dd6b4205-7d89-4701-9f6b-3a82804ec762",
   "metadata": {},
   "outputs": [],
   "source": [
    "L1_att=L_atts+L_attd"
   ]
  },
  {
   "cell_type": "code",
   "execution_count": 20,
   "id": "af536d5f-1a95-4cb7-a142-ea81a591d7d5",
   "metadata": {},
   "outputs": [
    {
     "name": "stderr",
     "output_type": "stream",
     "text": [
      "/tmp/ipykernel_41933/4030170569.py:10: DeprecationWarning: Conversion of an array with ndim > 0 to a scalar is deprecated, and will error in future. Ensure you extract a single element from your array before performing this operation. (Deprecated NumPy 1.25.)\n",
      "  Ad_cloud[i] = clouds.attenuation(wavelength)\n",
      "/tmp/ipykernel_41933/4030170569.py:24: DeprecationWarning: Conversion of an array with ndim > 0 to a scalar is deprecated, and will error in future. Ensure you extract a single element from your array before performing this operation. (Deprecated NumPy 1.25.)\n",
      "  As_cloud[i] = clouds.attenuation(wavelength)\n"
     ]
    }
   ],
   "source": [
    "Ad1=disk_clouds_attenuation(metallicities1, birth_d1, Default_d1, 3000)\n",
    "As1=spheroid_clouds_attenuation(metallicities1, birth_s1, Default_s1, 3000)\n",
    "L_attd1=Default_d1-Recent_d1+Recent_d1*Ad1\n",
    "L_atts1=Default_s1-Recent_s1+Recent_s1*As1\n",
    "L2_att1=L_atts1+L_attd1"
   ]
  },
  {
   "cell_type": "code",
   "execution_count": 21,
   "id": "5d217ec5-ddd5-467e-81a7-4dc5107debb9",
   "metadata": {},
   "outputs": [
    {
     "name": "stderr",
     "output_type": "stream",
     "text": [
      "/tmp/ipykernel_41933/4030170569.py:10: DeprecationWarning: Conversion of an array with ndim > 0 to a scalar is deprecated, and will error in future. Ensure you extract a single element from your array before performing this operation. (Deprecated NumPy 1.25.)\n",
      "  Ad_cloud[i] = clouds.attenuation(wavelength)\n",
      "/tmp/ipykernel_41933/4030170569.py:24: DeprecationWarning: Conversion of an array with ndim > 0 to a scalar is deprecated, and will error in future. Ensure you extract a single element from your array before performing this operation. (Deprecated NumPy 1.25.)\n",
      "  As_cloud[i] = clouds.attenuation(wavelength)\n"
     ]
    }
   ],
   "source": [
    "Ad2=disk_clouds_attenuation(metallicities2, birth_d2, Default_d2, 3000)\n",
    "As2=spheroid_clouds_attenuation(metallicities2, birth_s2, Default_s2, 3000)\n",
    "L_attd2=Default_d2-Recent_d2+Recent_d2*Ad2\n",
    "L_atts2=Default_s2-Recent_s2+Recent_s2*As2\n",
    "L3_att1=L_atts2+L_attd2"
   ]
  },
  {
   "cell_type": "code",
   "execution_count": 22,
   "id": "f2c79ee9-9926-4c40-aa62-d0ae5bee4b8f",
   "metadata": {},
   "outputs": [
    {
     "name": "stderr",
     "output_type": "stream",
     "text": [
      "/tmp/ipykernel_41933/2631725876.py:14: FutureWarning: The default of observed=False is deprecated and will be changed to True in a future version of pandas. Pass observed=False to retain current behavior or observed=True to adopt the future default and silence this warning.\n",
      "  resultz=Table.groupby('binzz').agg(\n"
     ]
    }
   ],
   "source": [
    "A05v2L=L(A05v2, A05v2)\n",
    "A05v2M=M(A05v2L)\n",
    "A05v2W=W(A05v2M, A05v2)"
   ]
  },
  {
   "cell_type": "code",
   "execution_count": 23,
   "id": "920cc77c-89ce-45cc-80ce-8b055459d954",
   "metadata": {},
   "outputs": [
    {
     "name": "stderr",
     "output_type": "stream",
     "text": [
      "/tmp/ipykernel_41933/2631725876.py:14: FutureWarning: The default of observed=False is deprecated and will be changed to True in a future version of pandas. Pass observed=False to retain current behavior or observed=True to adopt the future default and silence this warning.\n",
      "  resultz=Table.groupby('binzz').agg(\n",
      "/tmp/ipykernel_41933/2631725876.py:14: FutureWarning: The default of observed=False is deprecated and will be changed to True in a future version of pandas. Pass observed=False to retain current behavior or observed=True to adopt the future default and silence this warning.\n",
      "  resultz=Table.groupby('binzz').agg(\n",
      "/tmp/ipykernel_41933/2631725876.py:14: FutureWarning: The default of observed=False is deprecated and will be changed to True in a future version of pandas. Pass observed=False to retain current behavior or observed=True to adopt the future default and silence this warning.\n",
      "  resultz=Table.groupby('binzz').agg(\n"
     ]
    }
   ],
   "source": [
    "M1_att=M(L1_att)\n",
    "M1_attW=W(M1_att, A05v2)\n",
    "\n",
    "M2_att=M(L2_att1)\n",
    "M2_attW=W(M2_att, A05v3)\n",
    "\n",
    "M3_att=M(L3_att1)\n",
    "M3_attW=W(M3_att, A05v4)"
   ]
  },
  {
   "cell_type": "code",
   "execution_count": 26,
   "id": "d80c200a-50c9-409c-bb94-737d1f6654aa",
   "metadata": {},
   "outputs": [
    {
     "data": {
      "text/plain": [
       "Text(0, 0.5, 'Log($\\\\Phi$, $[{\\\\rm Mpc}^{-3}M_{UV}^{-1}]$)')"
      ]
     },
     "execution_count": 26,
     "metadata": {},
     "output_type": "execute_result"
    },
    {
     "data": {
      "image/png": "[encoded data removed]",
      "text/plain": [
       "<Figure size 640x480 with 1 Axes>"
      ]
     },
     "metadata": {},
     "output_type": "display_data"
    }
   ],
   "source": [
    "plt.title(\"UVLF Birth Cloud Attenuation at z=8\", fontsize=18)\n",
    "plt.plot(Magnitude1, np.log10(np.array(A05v2W['Sum'])), label=r'Default', color='black')\n",
    "plt.plot(Magnitude1, np.log10(np.array(M2_attW['Sum'])), label=r'$t_\\mathrm{{esc}} = 10$ Myr', color='red')\n",
    "plt.plot(Magnitude1, np.log10(np.array(M3_attW['Sum'])), label=r'$t_\\mathrm{{esc}} = 100$ Myr', color='red', ls='--')\n",
    "plt.legend()\n",
    "plt.ylim([-6, -1])\n",
    "plt.xlim([-23, -17])\n",
    "plt.xlabel(r'$M_{UV}$', fontsize=20)\n",
    "plt.ylabel(r\"Log($\\Phi$, $[{\\rm Mpc}^{-3}M_{UV}^{-1}]$)\", fontsize=20)"
   ]
  },
  {
   "cell_type": "code",
   "execution_count": null,
   "id": "c1bdfb31-ad3a-4dea-9d37-3fd3d9762bc3",
   "metadata": {},
   "outputs": [],
   "source": []
  }
 ],
 "metadata": {
  "kernelspec": {
   "display_name": "Python 3 (ipykernel)",
   "language": "python",
   "name": "python3"
  },
  "language_info": {
   "codemirror_mode": {
    "name": "ipython",
    "version": 3
   },
   "file_extension": ".py",
   "mimetype": "text/x-python",
   "name": "python",
   "nbconvert_exporter": "python",
   "pygments_lexer": "ipython3",
   "version": "3.10.12"
  }
 },
 "nbformat": 4,
 "nbformat_minor": 5
}
